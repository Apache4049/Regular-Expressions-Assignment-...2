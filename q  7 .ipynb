{
 "cells": [
  {
   "cell_type": "code",
   "execution_count": 1,
   "id": "f8808bc1",
   "metadata": {},
   "outputs": [
    {
     "name": "stdout",
     "output_type": "stream",
     "text": [
      "['Importance', 'Of', 'Regular@', 'Expressions', 'In', 'Python']\n"
     ]
    }
   ],
   "source": [
    "import re \n",
    "text= \"ImportanceOfRegular@ExpressionsInPython\" \n",
    "upper_case = [s for s in re.split(\"([A-Z][^A-Z]*)\", text) if s] \n",
    "print(upper_case)"
   ]
  },
  {
   "cell_type": "code",
   "execution_count": null,
   "id": "3a97eea9",
   "metadata": {},
   "outputs": [],
   "source": []
  }
 ],
 "metadata": {
  "kernelspec": {
   "display_name": "Python 3 (ipykernel)",
   "language": "python",
   "name": "python3"
  },
  "language_info": {
   "codemirror_mode": {
    "name": "ipython",
    "version": 3
   },
   "file_extension": ".py",
   "mimetype": "text/x-python",
   "name": "python",
   "nbconvert_exporter": "python",
   "pygments_lexer": "ipython3",
   "version": "3.11.5"
  }
 },
 "nbformat": 4,
 "nbformat_minor": 5
}
